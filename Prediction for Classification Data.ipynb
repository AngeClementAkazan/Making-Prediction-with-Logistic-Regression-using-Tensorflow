{
  "cells": [
    {
      "cell_type": "markdown",
      "metadata": {
        "id": "view-in-github",
        "colab_type": "text"
      },
      "source": [
        "<a href=\"https://colab.research.google.com/github/AngeClementAkazan/Making-Prediction-with-Logistic-Regression-using-Tensorflow/blob/main/Prediction%20for%20Classification%20Data.ipynb\" target=\"_parent\"><img src=\"https://colab.research.google.com/assets/colab-badge.svg\" alt=\"Open In Colab\"/></a>"
      ]
    },
    {
      "cell_type": "markdown",
      "source": [
        "# 1. Logistic model"
      ],
      "metadata": {
        "id": "u1Po6DNORjmt"
      }
    },
    {
      "cell_type": "code",
      "execution_count": null,
      "metadata": {
        "id": "onb7LiWCxPwJ"
      },
      "outputs": [],
      "source": [
        "import tensorflow as tf\n",
        "import matplotlib.pyplot as plt\n",
        "from sklearn.model_selection import train_test_split\n",
        "from sklearn.preprocessing import StandardScaler\n",
        "#Load data\n",
        "from sklearn.datasets import load_breast_cancer\n",
        "\n",
        "dta=load_breast_cancer()\n",
        "#Train/Test data\n",
        "X_train, X_test, y_train, y_test=train_test_split(dta.data,\n",
        "                            dta.target, test_size=0.2)\n",
        "\n",
        "#Scaling\n",
        "\n",
        "scler=StandardScaler()\n",
        "X_train= scler.fit_transform(X_train) #We fit to get  the mean and standard deviation \n",
        "X_test=scler.transform(X_test)\n",
        "\n",
        "#Creating model\n",
        "\n",
        "N,D=X_train.shape\n",
        "model= tf.keras.models.Sequential( [tf.keras.layers.Input(shape=(D,)), #the model an\n",
        "                      tf.keras.layers.Dense(1, activation='sigmoid')]\n",
        "                                 )\n",
        "#Alternative way to do it\n",
        "# model= tf.keras.models.Sequential()\n",
        "# model.add(tf.keras.layers.Dense(output_size, input_shape=(nb_col,), activation =''))\n",
        "\n",
        "#Train/fit\n",
        "model.compile(optimizer='adam', loss='binary_crossentropy',metrics=['accuracy'])\n",
        "md_ft= model.fit(X_train, y_train, validation_data= (X_test, y_test), epochs=150)\n"
      ]
    },
    {
      "cell_type": "code",
      "source": [
        "\n",
        "#Plotting loss and validation loss\n",
        "plt.subplot(1,2,1)\n",
        "plt.plot(md_ft.history[\"loss\"], label = \"loss\")\n",
        "plt.plot(md_ft.history[\"val_loss\"], label= \"Validation_loss\")\n",
        "plt.legend()\n",
        "plt.subplot(1,2,2)\n",
        "plt.plot(md_ft.history[\"accuracy\"], label = \"accuracy\")\n",
        "plt.plot(md_ft.history[\"val_accuracy\"], label= \"Validation accuracy\")\n",
        "plt.legend()\n",
        "plt.show();"
      ],
      "metadata": {
        "colab": {
          "base_uri": "https://localhost:8080/",
          "height": 267
        },
        "id": "biPU3wX5UrJE",
        "outputId": "d1ca5ab1-f478-43d5-e6e1-39fd14aa94ae"
      },
      "execution_count": 4,
      "outputs": [
        {
          "output_type": "display_data",
          "data": {
            "text/plain": [
              "<Figure size 432x288 with 2 Axes>"
            ],
            "image/png": "[encoded data removed]"
          },
          "metadata": {
            "needs_background": "light"
          }
        }
      ]
    },
    {
      "cell_type": "markdown",
      "source": [
        "# 2. Making Prediction"
      ],
      "metadata": {
        "id": "0q8Zk_SnLCKx"
      }
    },
    {
      "cell_type": "code",
      "source": [
        "# Make prediction\n",
        "#  The following result ouput p(y=1|x)=sigmoid(W^T X +B)\n",
        "prd=model.predict(X_test)\n",
        "# print(prd)\n",
        "#  We must round the values of the sigmoid to make it either 0 or 1\n",
        "#  The prediction prd is a 2-D array so we must flatten it to a 1-D array\n",
        "import numpy as np\n",
        "prd=np.round(prd).flatten()\n",
        "print(prd)"
      ],
      "metadata": {
        "colab": {
          "base_uri": "https://localhost:8080/"
        },
        "id": "2-tfQQnLLA0R",
        "outputId": "66d63a6e-2c62-4e23-f182-f1be70b6f0a1"
      },
      "execution_count": null,
      "outputs": [
        {
          "output_type": "stream",
          "name": "stdout",
          "text": [
            "4/4 [==============================] - 0s 5ms/step\n",
            "[0. 1. 1. 0. 0. 1. 1. 1. 1. 1. 1. 1. 0. 0. 1. 1. 1. 1. 0. 0. 1. 1. 1. 0.\n",
            " 1. 0. 0. 1. 1. 1. 1. 0. 0. 1. 1. 1. 0. 0. 0. 0. 0. 0. 1. 0. 1. 1. 0. 1.\n",
            " 1. 1. 1. 0. 0. 1. 1. 0. 0. 0. 1. 0. 0. 0. 0. 1. 1. 0. 1. 0. 1. 0. 0. 1.\n",
            " 1. 1. 0. 1. 0. 0. 1. 1. 0. 1. 1. 1. 1. 0. 0. 1. 0. 0. 0. 0. 1. 0. 1. 1.\n",
            " 1. 1. 0. 1. 1. 1. 0. 0. 0. 1. 0. 1. 1. 1. 0. 1. 1. 0.]\n"
          ]
        }
      ]
    },
    {
      "cell_type": "code",
      "source": [
        "#Get the accuracy in two ways\n",
        "#1\n",
        "print(\"Manually Calculated Accuracy:\",np.mean(prd==y_test))\n",
        "print(\"Automatically Calculated Accuracy:\",model.evaluate(X_test,y_test))"
      ],
      "metadata": {
        "colab": {
          "base_uri": "https://localhost:8080/"
        },
        "id": "A5HiQkMGLA3U",
        "outputId": "1193c5b8-f8fd-4ec8-c0c2-f4e44b41e097"
      },
      "execution_count": null,
      "outputs": [
        {
          "output_type": "stream",
          "name": "stdout",
          "text": [
            "Manually Calculated Accuracy: 0.9649122807017544\n",
            "4/4 [==============================] - 0s 5ms/step - loss: 0.1596 - accuracy: 0.9649\n",
            "Automatically Calculated Accuracy: [0.15962645411491394, 0.9649122953414917]\n"
          ]
        }
      ]
    },
    {
      "cell_type": "code",
      "source": [],
      "metadata": {
        "id": "_lxX9QkELA6q"
      },
      "execution_count": null,
      "outputs": []
    }
  ],
  "metadata": {
    "colab": {
      "provenance": [],
      "authorship_tag": "ABX9TyMmGQTRClV+OR97OtG7SO6t",
      "include_colab_link": true
    },
    "kernelspec": {
      "display_name": "Python 3",
      "name": "python3"
    },
    "language_info": {
      "name": "python"
    }
  },
  "nbformat": 4,
  "nbformat_minor": 0
}